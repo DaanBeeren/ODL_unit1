{
 "cells": [
  {
   "cell_type": "code",
   "execution_count": null,
   "id": "6820f10b",
   "metadata": {},
   "outputs": [],
   "source": []
  },
  {
   "cell_type": "code",
   "execution_count": 1,
   "id": "a20e2a84",
   "metadata": {},
   "outputs": [],
   "source": [
    "# Cel 1: imports\n",
    "import numpy as np\n",
    "import matplotlib.pyplot as plt\n",
    "import ipywidgets as widgets\n",
    "from IPython.display import display, Markdown\n",
    "%matplotlib inline\n",
    "\n",
    "from scipy.interpolate import pchip_interpolate\n",
    "from genetic_algorithm_pfm.genetic_algorithm_pfm.algorithm import GeneticAlgorithm"
   ]
  },
  {
   "cell_type": "markdown",
   "id": "4a8bc4e5",
   "metadata": {},
   "source": [
    "# Table of contents\n",
    "1. Introduction\n",
    "2. MCDA\n",
    "3. Optimization\n",
    "4. Ethics\n",
    "5. Quadrants"
   ]
  },
  {
   "cell_type": "markdown",
   "id": "9add5694",
   "metadata": {},
   "source": [
    "# 1. Introduction\n",
    "text hier"
   ]
  },
  {
   "cell_type": "markdown",
   "id": "a684a3c9",
   "metadata": {},
   "source": [
    "# 2. MCDA\n",
    "tekst hier met (interactieve) plaatjes van de uitkomst van tetra optimalisatie (die met scheepslift, zeesluis, binnenwatersluis en ligplaats)"
   ]
  },
  {
   "cell_type": "markdown",
   "id": "a9a18694",
   "metadata": {},
   "source": [
    "# 3. Optimization\n",
    "tekst en uitleg:\n",
    "\n",
    "Note: the optimization will take around a minute!"
   ]
  },
  {
   "cell_type": "code",
   "execution_count": 2,
   "id": "f72ca5e9",
   "metadata": {},
   "outputs": [],
   "source": [
    "def objective_p1(X):\n",
    "    \"\"\"\n",
    "    Minimised costs: O1 - Government\n",
    "    \"\"\"\n",
    "    L = X[:, 0]\n",
    "    B = X[:, 1] \n",
    "    H = X[:, 2]\n",
    "    N = X[:, 3]\n",
    "    c1 = 20000\n",
    "    c2 = 13000\n",
    "    c3 = 560000\n",
    "\n",
    "    F1 = c1 * (2*L * (2 * H + B)) + c2 * 0.4 *  H * B + c3 * N\n",
    "    p_value = pchip_interpolate([3e8,1.8e9 ,3e9 ], [100,65,0], F1)\n",
    "    return p_value \n",
    "\n",
    "\n",
    "def objective_p2(X):\n",
    "    \"\"\"\n",
    "    Maximised capacity: O2 - Vessels (aantal schepen per dag)\n",
    "    \"\"\"\n",
    "    L = X[:, 0]\n",
    "    B = X[:, 1]\n",
    "    H = X[:, 2]\n",
    "    N = X[:, 3]\n",
    "\n",
    "    c4 = 0.8\n",
    "    Aship = 9691.5\n",
    "    c5 = 0.4\n",
    "    c6 =  2.3148e-4\n",
    "    vvaar = 168000\n",
    "    F2 = (L*B*c4)/(Aship * ((L/(vvaar*c5)+N*c6)))\n",
    "    p_value = pchip_interpolate([100,300,500], [0, 50, 100], F2)\n",
    "    return p_value\n",
    "\n",
    "def objective_p3(X):\n",
    "    \"\"\"\n",
    "    Maximum water elevation retaining height: O3 - Safety experts\n",
    "    \"\"\"\n",
    "    L = X[:, 0]\n",
    "    B = X[:, 1]\n",
    "    H = X[:, 2]\n",
    "    N = X[:, 3]\n",
    "\n",
    "    c7 = 1\n",
    "    F3 = c7 * H\n",
    "    p_value = pchip_interpolate([0,10,25], [0,40,100], F3)\n",
    "    return p_value\n",
    "\n",
    "def objective_p4(X):\n",
    "    \"\"\"\n",
    "    Minimized environmental effects: O4 - Local residents\n",
    "    \"\"\"\n",
    "    L = X[:, 0]\n",
    "    B = X[:, 1]\n",
    "    H = X[:, 2]\n",
    "    N = X[:, 3]\n",
    "\n",
    "    c8 = 35\n",
    "    c9 = 210\n",
    "    c10 = 105\n",
    "\n",
    "    F4 =  c8 * (2*L * (2 * H + B))  + c9 * 0.4 * H * B+ c10 * N\n",
    "    p_value = pchip_interpolate([6e5,3e6,6e6], [100,50,0], F4)\n",
    "    return p_value\n",
    "\n",
    "def objective_p5(X):\n",
    "    \"\"\"\n",
    "    Maximized car transport over lock - Municipality \n",
    "    \"\"\"\n",
    "    L = X[:, 0]\n",
    "    B = X[:, 1]\n",
    "    H = X[:, 2]\n",
    "    N = X[:, 3]\n",
    "\n",
    "    c11 = 100\n",
    "\n",
    "    F5 =  c11 * N\n",
    "    p_value = pchip_interpolate([0,400,800], [0,65,100], F5)\n",
    "    return p_value\n",
    "\n",
    "def objective(X):\n",
    "    \"\"\"\n",
    "    Objective function that is fed to the GA. Calles the separate preference functions that are declared above.\n",
    "\n",
    "    :param variables: array with design variable values per member of the population. Can be split by using array\n",
    "    slicing\n",
    "    :return: 1D-array with aggregated preference scores for the members of the population.\n",
    "    \"\"\"\n",
    "    # extract 1D design variable arrays from full 'variables' array\n",
    "\n",
    "    # calculate the preference scores\n",
    "    p_1 = objective_p1(X)\n",
    "    p_2 = objective_p2(X)\n",
    "    p_3 = objective_p3(X)\n",
    "    p_4 = objective_p4(X)\n",
    "    p_5 = objective_p5(X)\n",
    "\n",
    "    w1 = 0.2\n",
    "    w2 = 0.2\n",
    "    w3 = 0.2\n",
    "    w4 = 0.2\n",
    "    w5 = 0.2\n",
    "    \n",
    "    return [w1, w2, w3, w4, w5], [p_1, p_2, p_3, p_4, p_5]\n",
    "\n",
    "b1 = [270, 550]  # L\n",
    "b2 = [30, 90]  # B\n",
    "b3 = [0,25] # H\n",
    "b4 = [0,8] # N\n",
    "\n",
    "bounds = [b1, b2, b3, b4]\n",
    "\n",
    "def constraint_1(X):\n",
    "    \"\"\"Maximum costs: 1,7 miljard\"\"\"\n",
    "    L = X[:, 0]\n",
    "    B = X[:, 1]\n",
    "    H = X[:, 2]\n",
    "    N = X[:, 3]\n",
    "    c1 = 20000\n",
    "    c2 = 13000\n",
    "    c3 = 560000\n",
    "    return c1 * (2 * L * (2 * H + B)) + c2 * 0.4 * H * B + c3 * N - 1.7e9  # < 0\n",
    "\n",
    "def constraint_2(X):\n",
    "    \"\"\"Minimum number of vessels/day: 60\"\"\"\n",
    "    L = X[:, 0]\n",
    "    B = X[:, 1]\n",
    "    H = X[:, 2]\n",
    "    N = X[:, 3]\n",
    "    c4 = 0.8\n",
    "    Aship = 9691.5\n",
    "    c5 = 0.4\n",
    "    c6 = 2.3148e-4\n",
    "    vvaar = 168000\n",
    "    vessels_per_day = (L * B * c4) / (Aship * ((L / (vvaar * c5) + N * c6)))\n",
    "    return -(vessels_per_day) + 60  # < 0\n",
    "\n",
    "def constraint_3(X):\n",
    "    \"\"\"Minimum water capacity: 15.5 m\"\"\"\n",
    "    H = X[:, 2]\n",
    "    return -(H) + 15.5  # < 0\n",
    "\n",
    "def constraint_4(X):\n",
    "    \"\"\"Maximum emissions: 3*10^5 ton CO2\"\"\"\n",
    "    L = X[:, 0]\n",
    "    B = X[:, 1]\n",
    "    H = X[:, 2]\n",
    "    N = X[:, 3]\n",
    "    c8 = 35\n",
    "    c9 = 210\n",
    "    c10 = 105\n",
    "    emissions = c8 * (2 * L * (2 * H + B)) + c9 * 0.4 * H * B + c10 * N\n",
    "    return emissions - 3e5  # < 0\n",
    "\n",
    "def constraint_5(X):\n",
    "    \"\"\"Minimum number of cars crossing/hour: 100\"\"\"\n",
    "    N = X[:, 3]\n",
    "    cars_per_hour = 100 * N\n",
    "    return -(cars_per_hour) + 100  # < 0\n",
    "\n",
    "\n",
    "cons = [['ineq', constraint_1], ['ineq', constraint_2], ['ineq', constraint_3], ['ineq', constraint_4], ['ineq', constraint_5]]\n"
   ]
  },
  {
   "cell_type": "code",
   "execution_count": null,
   "id": "459556a7",
   "metadata": {},
   "outputs": [
    {
     "data": {
      "application/vnd.jupyter.widget-view+json": {
       "model_id": "6125482da5bb48deb6bf3ee152f71a25",
       "version_major": 2,
       "version_minor": 0
      },
      "text/plain": [
       "FloatSlider(value=0.2, description='Government', max=1.0, step=0.05)"
      ]
     },
     "metadata": {},
     "output_type": "display_data"
    },
    {
     "data": {
      "application/vnd.jupyter.widget-view+json": {
       "model_id": "64a731f85a5d4bb791126a22f0957d1b",
       "version_major": 2,
       "version_minor": 0
      },
      "text/plain": [
       "FloatSlider(value=0.2, description='Shipping', max=1.0, step=0.05)"
      ]
     },
     "metadata": {},
     "output_type": "display_data"
    },
    {
     "data": {
      "application/vnd.jupyter.widget-view+json": {
       "model_id": "93d12dc75dab485f8b549d8bae198692",
       "version_major": 2,
       "version_minor": 0
      },
      "text/plain": [
       "FloatSlider(value=0.2, description='Safety', max=1.0, step=0.05)"
      ]
     },
     "metadata": {},
     "output_type": "display_data"
    },
    {
     "data": {
      "application/vnd.jupyter.widget-view+json": {
       "model_id": "34804be0015a4748a7ffa53eb3170fbe",
       "version_major": 2,
       "version_minor": 0
      },
      "text/plain": [
       "FloatSlider(value=0.2, description='Residents', max=1.0, step=0.05)"
      ]
     },
     "metadata": {},
     "output_type": "display_data"
    },
    {
     "data": {
      "application/vnd.jupyter.widget-view+json": {
       "model_id": "ca6c2c0d88944bb2bf9e6eaf16630473",
       "version_major": 2,
       "version_minor": 0
      },
      "text/plain": [
       "FloatSlider(value=0.2, description='Municipality', max=1.0, step=0.05)"
      ]
     },
     "metadata": {},
     "output_type": "display_data"
    },
    {
     "data": {
      "text/plain": [
       "'The Optimization will take around a minute'"
      ]
     },
     "metadata": {},
     "output_type": "display_data"
    },
    {
     "data": {
      "application/vnd.jupyter.widget-view+json": {
       "model_id": "5b07fb270d404aba8f7280d49c3464b1",
       "version_major": 2,
       "version_minor": 0
      },
      "text/plain": [
       "Button(button_style='success', description='Run optimizations', style=ButtonStyle())"
      ]
     },
     "metadata": {},
     "output_type": "display_data"
    },
    {
     "data": {
      "application/vnd.jupyter.widget-view+json": {
       "model_id": "7280c89a4d7e462bb3b33128b7f737ff",
       "version_major": 2,
       "version_minor": 0
      },
      "text/plain": [
       "Output()"
      ]
     },
     "metadata": {},
     "output_type": "display_data"
    }
   ],
   "source": [
    "import ipywidgets as widgets\n",
    "from IPython.display import display, clear_output\n",
    "import numpy as np\n",
    "import matplotlib.pyplot as plt\n",
    "from scipy.interpolate import pchip_interpolate\n",
    "\n",
    "# === Sliders voor de 5 gewichten ===\n",
    "w1 = widgets.FloatSlider(description='Government', min=0, max=1, step=0.05, value=0.2)\n",
    "w2 = widgets.FloatSlider(description='Shipping', min=0, max=1, step=0.05, value=0.2)\n",
    "w3 = widgets.FloatSlider(description='Safety', min=0, max=1, step=0.05, value=0.2)\n",
    "w4 = widgets.FloatSlider(description='Residents', min=0, max=1, step=0.05, value=0.2)\n",
    "w5 = widgets.FloatSlider(description='Municipality', min=0, max=1, step=0.05, value=0.2)\n",
    "\n",
    "run_button = widgets.Button(description='Run optimizations', button_style='success')\n",
    "out = widgets.Output()\n",
    "\n",
    "def on_run_clicked(b):\n",
    "    with out:\n",
    "        clear_output(wait=True)\n",
    "        print(\"Running both Genetic Algorithm paradigms (minmax & tetra)... ⏳\")\n",
    "\n",
    "        # Normaliseer gewichten\n",
    "        weights = np.array([w1.value, w2.value, w3.value, w4.value, w5.value])\n",
    "        weights = weights / np.sum(weights)\n",
    "\n",
    "        def objective_weighted(X):\n",
    "            p_values = [\n",
    "                objective_p1(X),\n",
    "                objective_p2(X),\n",
    "                objective_p3(X),\n",
    "                objective_p4(X),\n",
    "                objective_p5(X),\n",
    "            ]\n",
    "            return weights, p_values\n",
    "\n",
    "        paradigms = ['minmax', 'tetra']\n",
    "        colours = ['orange', 'green']\n",
    "        markers = ['o', '*']\n",
    "        results = {}\n",
    "\n",
    "        # Plot setup\n",
    "        fig, axes = plt.subplots(3, 2, figsize=(15, 10))\n",
    "        axes = axes.flatten()\n",
    "        titles = ['Government', 'Shipping sector', 'Safety experts', 'Local residents', 'Municipality']\n",
    "        x_labels = ['Costs [euro]', 'Capacity [ships/day]', 'Retaining height [m]', 'Environmental cost [euro]', 'Car transport [cars/day]']\n",
    "        pref_curves = [\n",
    "            ([3e8, 1.8e9, 3e9], [100, 65, 0]),\n",
    "            ([100, 300, 500], [0, 50, 100]),\n",
    "            ([0, 10, 25], [0, 40, 100]),\n",
    "            ([6e5, 3e6, 6e6], [100, 50, 0]),\n",
    "            ([0, 400, 800], [0, 65, 100]),\n",
    "        ]\n",
    "\n",
    "        for agg, color, marker in zip(paradigms, colours, markers):\n",
    "            print(f\"\\n▶️ Running GA with aggregation = '{agg}'\")\n",
    "            options = {\n",
    "                'n_bits': 8,\n",
    "                'n_iter': 400,\n",
    "                'n_pop': 500,\n",
    "                'r_cross': 0.8,\n",
    "                'max_stall': 8,\n",
    "                'aggregation': agg,\n",
    "                'var_type': 'real'\n",
    "            }\n",
    "\n",
    "            ga = GeneticAlgorithm(\n",
    "                objective=objective_weighted,\n",
    "                bounds=bounds,\n",
    "                constraints=cons,\n",
    "                options=options\n",
    "            )\n",
    "\n",
    "            best_score, best_solution, _ = ga.run(verbose=True)\n",
    "            L, B, H, N = best_solution\n",
    "            results[agg] = (best_score, best_solution)\n",
    "\n",
    "            # Bereken F-waarden & preference scores\n",
    "            X_best = np.array([best_solution])\n",
    "            F_values = [\n",
    "                20000 * (2 * L * (2 * H + B)) + 13000 * 0.4 * H * B + 560000 * N,\n",
    "                (L * B * 0.8) / (9691.5 * ((L / (168000 * 0.4) + N * 2.3148e-4))),\n",
    "                H,\n",
    "                35 * (2 * L * (2 * H + B)) + 210 * 0.4 * H * B + 105 * N,\n",
    "                100 * N\n",
    "            ]\n",
    "            pref_scores = [\n",
    "                objective_p1(X_best)[0],\n",
    "                objective_p2(X_best)[0],\n",
    "                objective_p3(X_best)[0],\n",
    "                objective_p4(X_best)[0],\n",
    "                objective_p5(X_best)[0]\n",
    "            ]\n",
    "\n",
    "            # Plot voorkeurscurves + punten\n",
    "            for i in range(5):\n",
    "                x_curve, y_curve = pref_curves[i]\n",
    "                x_plot = np.linspace(x_curve[0], x_curve[-1], 200)\n",
    "                y_plot = pchip_interpolate(x_curve, y_curve, x_plot)\n",
    "                if agg == 'minmax':\n",
    "                    axes[i].plot(x_plot, y_plot, color='black', label='Preference curve')\n",
    "                axes[i].scatter(F_values[i], pref_scores[i], color=color, s=100,\n",
    "                                marker=marker, label=f'{agg} (L={L:.1f}, B={B:.1f}, H={H:.1f}, N={N:.1f})')\n",
    "                axes[i].set_title(titles[i])\n",
    "                axes[i].set_xlabel(x_labels[i])\n",
    "                axes[i].set_ylabel('Preference score')\n",
    "                axes[i].set_ylim(0, 102)\n",
    "                axes[i].grid(linestyle='--')\n",
    "                axes[i].legend()\n",
    "\n",
    "        axes[5].axis('off')\n",
    "        plt.tight_layout()\n",
    "        plt.show()\n",
    "\n",
    "        # Samenvatting\n",
    "        print(\"\\n📊 Results summary:\")\n",
    "        for agg in paradigms:\n",
    "            best_score, sol = results[agg]\n",
    "            L, B, H, N = sol\n",
    "            print(f\"  {agg.upper():7s} → Score: {best_score:.2f} | L={L:.2f}, B={B:.2f}, H={H:.2f}, N={N:.2f}\")\n",
    "        print(f\"\\nWeights used: {weights}\")\n",
    "\n",
    "run_button.on_click(on_run_clicked)\n",
    "\n",
    "display(w1, w2, w3, w4, w5, run_button, out)"
   ]
  },
  {
   "cell_type": "code",
   "execution_count": null,
   "id": "a53cf7fd",
   "metadata": {},
   "outputs": [],
   "source": []
  }
 ],
 "metadata": {
  "kernelspec": {
   "display_name": "base",
   "language": "python",
   "name": "python3"
  },
  "language_info": {
   "codemirror_mode": {
    "name": "ipython",
    "version": 3
   },
   "file_extension": ".py",
   "mimetype": "text/x-python",
   "name": "python",
   "nbconvert_exporter": "python",
   "pygments_lexer": "ipython3",
   "version": "3.13.5"
  }
 },
 "nbformat": 4,
 "nbformat_minor": 5
}

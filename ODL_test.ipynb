{
 "cells": [
  {
   "cell_type": "code",
   "execution_count": null,
   "id": "6820f10b",
   "metadata": {},
   "outputs": [],
   "source": []
  },
  {
   "cell_type": "code",
   "execution_count": 1,
   "id": "a20e2a84",
   "metadata": {},
   "outputs": [],
   "source": [
    "# Cel 1: imports\n",
    "import numpy as np\n",
    "import matplotlib.pyplot as plt\n",
    "import ipywidgets as widgets\n",
    "from IPython.display import display, Markdown\n",
    "%matplotlib inline"
   ]
  },
  {
   "cell_type": "markdown",
   "id": "a9a18694",
   "metadata": {},
   "source": [
    "# Test: interactieve stakeholder-sliders\n",
    "Gebruik de sliders hieronder om de gewichten van 2 stakeholders te veranderen.  \n",
    "De grafiek toont de gewichten en een eenvoudige gecombineerde score."
   ]
  },
  {
   "cell_type": "code",
   "execution_count": null,
   "id": "f72ca5e9",
   "metadata": {},
   "outputs": [
    {
     "data": {
      "application/vnd.jupyter.widget-view+json": {
       "model_id": "c7e228b7a6124a8095f8fc15513495d4",
       "version_major": 2,
       "version_minor": 0
      },
      "text/plain": [
       "interactive(children=(FloatSlider(value=0.5, description='Stakeholder A', max=1.0, step=0.01), FloatSlider(val…"
      ]
     },
     "metadata": {},
     "output_type": "display_data"
    },
    {
     "data": {
      "application/vnd.jupyter.widget-view+json": {
       "model_id": "8ce5b9cca72d4fa1b9a1d916733e4625",
       "version_major": 2,
       "version_minor": 0
      },
      "text/plain": [
       "Output()"
      ]
     },
     "metadata": {},
     "output_type": "display_data"
    }
   ],
   "source": [
    "# Cel 3: sliders + interactieve plot\n",
    "w1 = widgets.FloatSlider(description='Stakeholder A', value=0.5, min=0.0, max=1.0, step=0.01)\n",
    "w2 = widgets.FloatSlider(description='Stakeholder B', value=0.5, min=0.0, max=1.0, step=0.01)\n",
    "\n",
    "out = widgets.Output()\n",
    "\n",
    "def update_plot(a, b):\n",
    "    with out:\n",
    "        out.clear_output(wait=True)\n",
    "        combined = 0.6*a + 0.4*b  # voorbeeldweging van scores\n",
    "        labels = ['A', 'B', 'Combined']\n",
    "        values = [a, b, combined]\n",
    "        fig, ax = plt.subplots(figsize=(6,3))\n",
    "        ax.bar(labels, values)\n",
    "        ax.set_ylim(0,1)\n",
    "        ax.set_ylabel('Weight / score')\n",
    "        ax.set_title(f'Combined preference score: {combined:.2f}')\n",
    "        plt.tight_layout()\n",
    "        plt.show()\n",
    "\n",
    "widgets.interact(update_plot, a=w1, b=w2)\n",
    "display(out)"
   ]
  },
  {
   "cell_type": "code",
   "execution_count": null,
   "id": "459556a7",
   "metadata": {},
   "outputs": [],
   "source": []
  }
 ],
 "metadata": {
  "kernelspec": {
   "display_name": "base",
   "language": "python",
   "name": "python3"
  },
  "language_info": {
   "codemirror_mode": {
    "name": "ipython",
    "version": 3
   },
   "file_extension": ".py",
   "mimetype": "text/x-python",
   "name": "python",
   "nbconvert_exporter": "python",
   "pygments_lexer": "ipython3",
   "version": "3.13.5"
  }
 },
 "nbformat": 4,
 "nbformat_minor": 5
}
